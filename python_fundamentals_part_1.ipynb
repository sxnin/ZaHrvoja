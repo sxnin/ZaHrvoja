{
 "cells": [
  {
   "cell_type": "markdown",
   "metadata": {
    "colab_type": "text",
    "id": "0rYnuumZbVyV"
   },
   "source": [
    "\n",
    "# Python Osnove - prvi dio\n",
    "U ovoj bilješci/notebooku obradit ćemo sljedeće:\n",
    "\n",
    "* I/O function and indentation - Unos/Ispis funkcije i uvlake\n",
    "* Variable and their data types - varijable i vrste\n",
    "* Operations on different data types - Operacijeske radnje na različitim vrstama podataka\n",
    "* String formatting and Operators - Formati znakova/slova i operacija\n",
    "* Basic Operators - osnovne operacije\n",
    "* Basics of Python Lists - osnovne Python liste\n"
   ]
  },
  {
   "cell_type": "code",
   "execution_count": 60,
   "metadata": {
    "colab": {},
    "colab_type": "code",
    "id": "OJKpzK01ZwcP",
    "outputId": "5362e144-d060-44cc-83c8-336d7d1410c2"
   },
   "outputs": [
    {
     "name": "stdout",
     "output_type": "stream",
     "text": [
      "Hello World!\n"
     ]
    }
   ],
   "source": [
    "print(\"Hello World!\") # ispis predodređeng teksta"
   ]
  },
  {
   "cell_type": "code",
   "execution_count": 61,
   "metadata": {
    "colab": {},
    "colab_type": "code",
    "id": "Z4c-w--6ZwcY",
    "outputId": "07f2f908-61c5-4250-e4dd-627279ddb2fc"
   },
   "outputs": [
    {
     "name": "stdout",
     "output_type": "stream",
     "text": [
      "baba\n"
     ]
    },
    {
     "data": {
      "text/plain": [
       "'baba'"
      ]
     },
     "execution_count": 61,
     "metadata": {},
     "output_type": "execute_result"
    }
   ],
   "source": [
    "input() # unos podatka"
   ]
  },
  {
   "cell_type": "code",
   "execution_count": 62,
   "metadata": {
    "colab": {},
    "colab_type": "code",
    "id": "gTcLmNYRZwcc",
    "outputId": "dca32a8a-7f85-4e3c-fb3a-4c012a45d9c8"
   },
   "outputs": [
    {
     "name": "stdout",
     "output_type": "stream",
     "text": [
      "a equals 5\n"
     ]
    }
   ],
   "source": [
    "a = 5\n",
    "if a == 5:\n",
    "    # uvučena linija (4 mista) u ovom dijelu koda označava pripadnost uvjetu IF\n",
    "    print(\"a equals 5\") # osnovni uvjet i šta u slučaju zadovoljenja"
   ]
  },
  {
   "cell_type": "code",
   "execution_count": 63,
   "metadata": {
    "colab": {},
    "colab_type": "code",
    "id": "abBcWjPUZwcj",
    "outputId": "1189d460-f15d-4103-ff0e-57ee67a5004c"
   },
   "outputs": [
    {
     "name": "stdout",
     "output_type": "stream",
     "text": [
      "<class 'str'>\n"
     ]
    }
   ],
   "source": [
    "myString = 'hello world' # varijabla i određivanje vrste varijable - slovo\n",
    "print(type(myString))"
   ]
  },
  {
   "cell_type": "code",
   "execution_count": 64,
   "metadata": {
    "colab": {},
    "colab_type": "code",
    "id": "lOrlk-kiZwcp",
    "outputId": "d69abe74-0f85-4fd2-84d8-9ab793551ec3"
   },
   "outputs": [
    {
     "name": "stdout",
     "output_type": "stream",
     "text": [
      "<class 'int'>\n"
     ]
    }
   ],
   "source": [
    "n = 10 # varijabla i određivanje vrste varijable - znamenka-cijeli broj\n",
    "print(type(n))"
   ]
  },
  {
   "cell_type": "code",
   "execution_count": 65,
   "metadata": {
    "colab": {},
    "colab_type": "code",
    "id": "SGYF1sBHZwcu",
    "outputId": "a5fad630-8703-4a62-c0de-54eb46ccecbe"
   },
   "outputs": [
    {
     "name": "stdout",
     "output_type": "stream",
     "text": [
      "<class 'float'>\n"
     ]
    }
   ],
   "source": [
    "n_float = 7.5 # varijabla i određivanje vrste varijable - decimalni broj\n",
    "print(type(n_float))"
   ]
  },
  {
   "cell_type": "code",
   "execution_count": 70,
   "metadata": {
    "colab": {},
    "colab_type": "code",
    "id": "xZRcpvudZwcz",
    "outputId": "4e329fad-a8e6-41bd-f77f-4377496bd813"
   },
   "outputs": [
    {
     "name": "stdout",
     "output_type": "stream",
     "text": [
      "Ovo je STRING unutar jednostrukih navodnika\n"
     ]
    }
   ],
   "source": [
    "single_string = 'Ovo je STRING unutar jednostrukih navodnika'\n",
    "print(single_string)"
   ]
  },
  {
   "cell_type": "code",
   "execution_count": 71,
   "metadata": {
    "colab": {},
    "colab_type": "code",
    "id": "w8zH8nMTZwc4",
    "outputId": "44dbe354-96a6-4023-ea0f-532c885fd136"
   },
   "outputs": [
    {
     "name": "stdout",
     "output_type": "stream",
     "text": [
      "Ovo je STRING unutar dvostrukih navodnika\n"
     ]
    }
   ],
   "source": [
    "double_string = \"Ovo je STRING unutar dvostrukih navodnika\"\n",
    "print(double_string)"
   ]
  },
  {
   "cell_type": "code",
   "execution_count": 72,
   "metadata": {
    "colab": {},
    "colab_type": "code",
    "id": "45ACz7IAZwc9",
    "outputId": "a90ffd7c-ca11-4063-b11c-7336a40a7eb0"
   },
   "outputs": [
    {
     "name": "stdout",
     "output_type": "stream",
     "text": [
      "12.5\n"
     ]
    }
   ],
   "source": [
    "n1 = 5  # pridruživanje varijabli istog tipa\n",
    "n2 = 7.5\n",
    "print(n1+n2)"
   ]
  },
  {
   "cell_type": "code",
   "execution_count": 73,
   "metadata": {
    "colab": {},
    "colab_type": "code",
    "id": "L9uPR7S8ZwdB",
    "outputId": "17005e71-bf74-4ed7-db2f-f2ee41d2bc72"
   },
   "outputs": [
    {
     "ename": "TypeError",
     "evalue": "can only concatenate str (not \"int\") to str",
     "output_type": "error",
     "traceback": [
      "\u001b[1;31m---------------------------------------------------------------------------\u001b[0m",
      "\u001b[1;31mTypeError\u001b[0m                                 Traceback (most recent call last)",
      "\u001b[1;32m~\\AppData\\Local\\Temp\\ipykernel_202772\\294781730.py\u001b[0m in \u001b[0;36m<module>\u001b[1;34m\u001b[0m\n\u001b[0;32m      1\u001b[0m \u001b[0mnstr1\u001b[0m \u001b[1;33m=\u001b[0m \u001b[1;34m\"abc\"\u001b[0m\u001b[1;33m\u001b[0m\u001b[1;33m\u001b[0m\u001b[0m\n\u001b[1;32m----> 2\u001b[1;33m \u001b[0mprint\u001b[0m\u001b[1;33m(\u001b[0m\u001b[0mnstr1\u001b[0m \u001b[1;33m+\u001b[0m \u001b[0mn1\u001b[0m\u001b[1;33m)\u001b[0m\u001b[1;33m\u001b[0m\u001b[1;33m\u001b[0m\u001b[0m\n\u001b[0m",
      "\u001b[1;31mTypeError\u001b[0m: can only concatenate str (not \"int\") to str"
     ]
    }
   ],
   "source": [
    "nstr1 = \"abc\"   # pridruživanje varijabli različitog tipa, string i int rezultira greškom\n",
    "print(nstr1 + n1)"
   ]
  },
  {
   "cell_type": "code",
   "execution_count": 75,
   "metadata": {
    "colab": {},
    "colab_type": "code",
    "id": "7hL47rL2ZwdF",
    "outputId": "556e49b2-efef-49c1-beb5-bd7e15936214"
   },
   "outputs": [
    {
     "name": "stdout",
     "output_type": "stream",
     "text": [
      "abcdef\n"
     ]
    }
   ],
   "source": [
    "nstr2 = \"def\"   # pridruživanje varijabli istog tipa, string i string je u redu\n",
    "print(nstr1 + nstr2)"
   ]
  },
  {
   "cell_type": "code",
   "execution_count": 76,
   "metadata": {
    "colab": {},
    "colab_type": "code",
    "id": "dHh3wrzEZwdJ"
   },
   "outputs": [],
   "source": [
    "n1, n2 = 10, 11  # lista i izvlačenje iz liste podatka n1 ili n2"
   ]
  },
  {
   "cell_type": "code",
   "execution_count": 77,
   "metadata": {
    "colab": {},
    "colab_type": "code",
    "id": "k_sPvrAxZwdN",
    "outputId": "c1fae2c6-bce4-46c6-abc4-2edb35bb3b9c"
   },
   "outputs": [
    {
     "data": {
      "text/plain": [
       "10"
      ]
     },
     "execution_count": 77,
     "metadata": {},
     "output_type": "execute_result"
    }
   ],
   "source": [
    "n1"
   ]
  },
  {
   "cell_type": "code",
   "execution_count": 78,
   "metadata": {
    "colab": {},
    "colab_type": "code",
    "id": "uM8ntbFHZwdT",
    "outputId": "397c8e6f-cc09-4424-a1bb-60c3248d8b17"
   },
   "outputs": [
    {
     "data": {
      "text/plain": [
       "11"
      ]
     },
     "execution_count": 78,
     "metadata": {},
     "output_type": "execute_result"
    }
   ],
   "source": [
    "n2"
   ]
  },
  {
   "cell_type": "code",
   "execution_count": 143,
   "metadata": {
    "colab": {},
    "colab_type": "code",
    "id": "Dbis3Lh_ZwdX",
    "outputId": "8abe2bf5-981c-4a6d-bb93-59a8992c8006"
   },
   "outputs": [
    {
     "name": "stdout",
     "output_type": "stream",
     "text": [
      "13.875\n"
     ]
    }
   ],
   "source": [
    "result = 3 + 4.35 / 2 * 5  # DMAS Aritmetički operatori i vrednovanje izraza\n",
    "print(result)"
   ]
  },
  {
   "cell_type": "code",
   "execution_count": 80,
   "metadata": {
    "colab": {},
    "colab_type": "code",
    "id": "bz3C6xtSZwdd",
    "outputId": "6e3c26d5-81b9-4315-ee38-e511681f4b5f"
   },
   "outputs": [
    {
     "name": "stdout",
     "output_type": "stream",
     "text": [
      "7\n"
     ]
    }
   ],
   "source": [
    "# module operator % - ostatak\n",
    "remainder = 17%10\n",
    "print(remainder)"
   ]
  },
  {
   "cell_type": "code",
   "execution_count": 81,
   "metadata": {
    "colab": {},
    "colab_type": "code",
    "id": "teGa-QREZwdl",
    "outputId": "0201d3b7-1220-48cd-fbb5-19bc420fad62"
   },
   "outputs": [
    {
     "name": "stdout",
     "output_type": "stream",
     "text": [
      "625\n"
     ]
    }
   ],
   "source": [
    "# x ^ n - potencija na n-tu\n",
    "x = 5\n",
    "n = 4\n",
    "print(x ** n)"
   ]
  },
  {
   "cell_type": "code",
   "execution_count": 82,
   "metadata": {
    "colab": {},
    "colab_type": "code",
    "id": "Ip07RFsZZwdp"
   },
   "outputs": [],
   "source": [
    "nstr = \"abc\"\n",
    "ans = nstr * 10"
   ]
  },
  {
   "cell_type": "code",
   "execution_count": 83,
   "metadata": {
    "colab": {},
    "colab_type": "code",
    "id": "YbFxbZYIZwds",
    "outputId": "856bcdc1-42cd-4ebf-ae3a-0e66e4b40dd5"
   },
   "outputs": [
    {
     "name": "stdout",
     "output_type": "stream",
     "text": [
      "30\n"
     ]
    }
   ],
   "source": [
    "print(len(ans))"
   ]
  },
  {
   "cell_type": "code",
   "execution_count": 100,
   "metadata": {
    "colab": {},
    "colab_type": "code",
    "id": "CpgmSk--Zwdx",
    "outputId": "b4aa473d-aa95-404d-e5a5-1bb5fc83f3e9"
   },
   "outputs": [
    {
     "name": "stdout",
     "output_type": "stream",
     "text": [
      "Zlatko is a data scientist!\n"
     ]
    }
   ],
   "source": [
    "name = \"Zlatko\"\n",
    "print(\"%s is a data scientist!\" %name)"
   ]
  },
  {
   "cell_type": "code",
   "execution_count": 101,
   "metadata": {
    "colab": {},
    "colab_type": "code",
    "id": "atXjzC-5Zwd1",
    "outputId": "bf8f2d58-b5ce-4c99-df16-60670db6e909"
   },
   "outputs": [
    {
     "data": {
      "text/plain": [
       "'ZLATKO'"
      ]
     },
     "execution_count": 101,
     "metadata": {},
     "output_type": "execute_result"
    }
   ],
   "source": [
    "name.upper()  # Sva slova velika"
   ]
  },
  {
   "cell_type": "code",
   "execution_count": 102,
   "metadata": {
    "colab": {},
    "colab_type": "code",
    "id": "BROnctgPZwd5",
    "outputId": "710fd5f1-a4a2-4423-a847-aeb3bfd3c05a"
   },
   "outputs": [
    {
     "data": {
      "text/plain": [
       "'zlatko'"
      ]
     },
     "execution_count": 102,
     "metadata": {},
     "output_type": "execute_result"
    }
   ],
   "source": [
    "name.lower()   # Sva slova mala"
   ]
  },
  {
   "cell_type": "code",
   "execution_count": 103,
   "metadata": {
    "colab": {},
    "colab_type": "code",
    "id": "QWvzhR41Zwd_",
    "outputId": "4920717f-0398-4e9e-995e-1f8227d60630"
   },
   "outputs": [
    {
     "data": {
      "text/plain": [
       "'It is a nice day today.'"
      ]
     },
     "execution_count": 103,
     "metadata": {},
     "output_type": "execute_result"
    }
   ],
   "source": [
    "nstr = \"it is a nice day today.\" # Početno slovo veliko\n",
    "nstr.capitalize()"
   ]
  },
  {
   "cell_type": "code",
   "execution_count": 126,
   "metadata": {
    "colab": {},
    "colab_type": "code",
    "id": "R2ROF-N8ZweD",
    "outputId": "3e9a3a14-e469-46e1-ff07-5f54b3844e27"
   },
   "outputs": [
    {
     "data": {
      "text/plain": [
       "4"
      ]
     },
     "execution_count": 126,
     "metadata": {},
     "output_type": "execute_result"
    }
   ],
   "source": [
    "name.index('k') # slovo po redu, početna pozicija je nula"
   ]
  },
  {
   "cell_type": "code",
   "execution_count": 127,
   "metadata": {
    "colab": {},
    "colab_type": "code",
    "id": "vjKGED4eZweH",
    "outputId": "fef0c3e1-cb10-48d6-e43c-c909156360fa"
   },
   "outputs": [
    {
     "data": {
      "text/plain": [
       "'atk'"
      ]
     },
     "execution_count": 127,
     "metadata": {},
     "output_type": "execute_result"
    }
   ],
   "source": [
    "name[2:5]"
   ]
  },
  {
   "cell_type": "code",
   "execution_count": 128,
   "metadata": {
    "colab": {},
    "colab_type": "code",
    "id": "8PBwGtuhZweK",
    "outputId": "fce320d4-6aca-4059-ac69-d2fb9bf32b4b"
   },
   "outputs": [
    {
     "data": {
      "text/plain": [
       "'ak'"
      ]
     },
     "execution_count": 128,
     "metadata": {},
     "output_type": "execute_result"
    }
   ],
   "source": [
    "name[2:6:2]"
   ]
  },
  {
   "cell_type": "code",
   "execution_count": 134,
   "metadata": {
    "colab": {},
    "colab_type": "code",
    "id": "AKgDmpq3ZweP",
    "outputId": "05a5781e-81fb-418e-f784-2f52f77290d3"
   },
   "outputs": [
    {
     "name": "stdout",
     "output_type": "stream",
     "text": [
      "[3, 4, 5]\n"
     ]
    }
   ],
   "source": [
    "alist = [3,4,5] # lista samo brojke\n",
    "print(alist)"
   ]
  },
  {
   "cell_type": "code",
   "execution_count": 135,
   "metadata": {
    "colab": {},
    "colab_type": "code",
    "id": "YKqSZxXMZweR",
    "outputId": "251b3422-8bf8-4b21-a82c-ab786e4e8c46"
   },
   "outputs": [
    {
     "name": "stdout",
     "output_type": "stream",
     "text": [
      "['zlajo', 2, 5.5]\n"
     ]
    }
   ],
   "source": [
    "alist = ['zlajo', 2, 5.5] # lista mješana, str i int\n",
    "print(alist)"
   ]
  },
  {
   "cell_type": "code",
   "execution_count": 136,
   "metadata": {
    "colab": {},
    "colab_type": "code",
    "id": "j_qJCbh6ZweU",
    "outputId": "405e39dd-4256-4fe5-d25e-10f64d739c64"
   },
   "outputs": [
    {
     "name": "stdout",
     "output_type": "stream",
     "text": [
      "['zlajo', 2, 5.5, 11, 15]\n"
     ]
    }
   ],
   "source": [
    "alist.append(11)  # dodavanje na list append\n",
    "alist.append(15)\n",
    "print(alist)"
   ]
  },
  {
   "cell_type": "code",
   "execution_count": 137,
   "metadata": {
    "colab": {},
    "colab_type": "code",
    "id": "lQRu9ys2ZweX",
    "outputId": "0d7cdee6-6704-4ce6-f338-8a6d4f456276"
   },
   "outputs": [
    {
     "name": "stdout",
     "output_type": "stream",
     "text": [
      "['zlajo', 2, 5.5, 11]\n"
     ]
    }
   ],
   "source": [
    "alist.pop()  #doadje na listu samo jednu-prv vrijednost na koju naiđe\n",
    "print(alist)"
   ]
  },
  {
   "cell_type": "code",
   "execution_count": 138,
   "metadata": {
    "colab": {},
    "colab_type": "code",
    "id": "wTe8rfuhZwed",
    "outputId": "98a5802c-1367-4da3-f138-9c9640a0b8e2"
   },
   "outputs": [
    {
     "data": {
      "text/plain": [
       "11"
      ]
     },
     "execution_count": 138,
     "metadata": {},
     "output_type": "execute_result"
    }
   ],
   "source": [
    "alist[3] # dobavljanje sa liste podatka na poziciji 3 krenuvši on 0"
   ]
  },
  {
   "cell_type": "code",
   "execution_count": 139,
   "metadata": {
    "colab": {},
    "colab_type": "code",
    "id": "uHVn8hV8Zwei",
    "outputId": "08442004-c3b5-4a0b-80cc-b2ea2970390b"
   },
   "outputs": [
    {
     "data": {
      "text/plain": [
       "[2, 5.5, 11]"
      ]
     },
     "execution_count": 139,
     "metadata": {},
     "output_type": "execute_result"
    }
   ],
   "source": [
    "alist[1:]  # sve sa liste krenuvši od i ukljčivši poziciju 1"
   ]
  },
  {
   "cell_type": "code",
   "execution_count": 140,
   "metadata": {
    "colab": {},
    "colab_type": "code",
    "id": "AUlw133RZwem",
    "outputId": "4afc1b30-e1f9-4551-b491-8c0a9dbf134c"
   },
   "outputs": [
    {
     "name": "stdout",
     "output_type": "stream",
     "text": [
      "['zlajo', 2, 5.5, 11, [1, 2, 3]]\n"
     ]
    }
   ],
   "source": [
    "alist.append([1,2,3])  # dodavanje liste listi unutar liste\n",
    "print(alist)"
   ]
  },
  {
   "cell_type": "code",
   "execution_count": 141,
   "metadata": {
    "colab": {},
    "colab_type": "code",
    "id": "ZZII_cfFZwer",
    "outputId": "267f9bde-29bc-43b0-982b-e3248581050d"
   },
   "outputs": [
    {
     "data": {
      "text/plain": [
       "['zlajo', 2, 5.5, 11, [1, 2, 3], 'zlajo', 2, 5.5, 11, [1, 2, 3]]"
      ]
     },
     "execution_count": 141,
     "metadata": {},
     "output_type": "execute_result"
    }
   ],
   "source": [
    "alist*2 # duplanje liste/potencija"
   ]
  },
  {
   "cell_type": "code",
   "execution_count": 142,
   "metadata": {
    "colab": {},
    "colab_type": "code",
    "id": "WzKLOsbjZweu",
    "outputId": "da11b84b-7265-4736-a161-240bca14aba0"
   },
   "outputs": [
    {
     "data": {
      "text/plain": [
       "['zlajo', 2, 5.5, 11, [1, 2, 3], 'zlajo', 2, 5.5, 11, [1, 2, 3]]"
      ]
     },
     "execution_count": 142,
     "metadata": {},
     "output_type": "execute_result"
    }
   ],
   "source": [
    "alist + alist # Zbrajanje liste same sa sobom"
   ]
  }
 ],
 "metadata": {
  "colab": {
   "include_colab_link": true,
   "name": "python_fundamentals_part-1.ipynb",
   "provenance": []
  },
  "kernelspec": {
   "display_name": "Python 3 (ipykernel)",
   "language": "python",
   "name": "python3"
  },
  "language_info": {
   "codemirror_mode": {
    "name": "ipython",
    "version": 3
   },
   "file_extension": ".py",
   "mimetype": "text/x-python",
   "name": "python",
   "nbconvert_exporter": "python",
   "pygments_lexer": "ipython3",
   "version": "3.9.13"
  }
 },
 "nbformat": 4,
 "nbformat_minor": 1
}
