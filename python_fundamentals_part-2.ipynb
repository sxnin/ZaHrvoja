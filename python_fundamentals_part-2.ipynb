{
 "cells": [
  {
   "cell_type": "markdown",
   "metadata": {},
   "source": [
    "# Python Osnove - drugi dio\n",
    "\n",
    "U ovoj bilješci/notebooku obradit ćemo sljedeće:\n",
    "\n",
    "1. Lists - liste\n",
    "2. Tuples - nepromjenjive liste\n",
    "3. Dictionaries - upareni parovi - ključ sa vrijednosti\n",
    "4. Comprehension constructs - izgradnja razumijevanja\n",
    "5. Functions in Python - Funkcije u Pythonu"
   ]
  },
  {
   "cell_type": "code",
   "execution_count": 1,
   "metadata": {},
   "outputs": [],
   "source": [
    "alist = ['Tomica', 54, 'Marica', 78]"
   ]
  },
  {
   "cell_type": "code",
   "execution_count": 2,
   "metadata": {},
   "outputs": [
    {
     "data": {
      "text/plain": [
       "['Tomica', 54, 'Marica', 78]"
      ]
     },
     "execution_count": 2,
     "metadata": {},
     "output_type": "execute_result"
    }
   ],
   "source": [
    "alist"
   ]
  },
  {
   "cell_type": "code",
   "execution_count": 3,
   "metadata": {},
   "outputs": [],
   "source": [
    "alist.append(help) # dodajemo listi u slučaju ovom funkciju pomoć (help)"
   ]
  },
  {
   "cell_type": "code",
   "execution_count": 4,
   "metadata": {},
   "outputs": [
    {
     "data": {
      "text/plain": [
       "['Tomica',\n",
       " 54,\n",
       " 'Marica',\n",
       " 78,\n",
       " Type help() for interactive help, or help(object) for help about object.]"
      ]
     },
     "execution_count": 4,
     "metadata": {},
     "output_type": "execute_result"
    }
   ],
   "source": [
    "alist"
   ]
  },
  {
   "cell_type": "code",
   "execution_count": null,
   "metadata": {},
   "outputs": [
    {
     "name": "stdout",
     "output_type": "stream",
     "text": [
      "\n",
      "Welcome to Python 3.9's help utility!\n",
      "\n",
      "If this is your first time using Python, you should definitely check out\n",
      "the tutorial on the Internet at https://docs.python.org/3.9/tutorial/.\n",
      "\n",
      "Enter the name of any module, keyword, or topic to get help on writing\n",
      "Python programs and using Python modules.  To quit this help utility and\n",
      "return to the interpreter, just type \"quit\".\n",
      "\n",
      "To get a list of available modules, keywords, symbols, or topics, type\n",
      "\"modules\", \"keywords\", \"symbols\", or \"topics\".  Each module also comes\n",
      "with a one-line summary of what it does; to list the modules whose name\n",
      "or summary contain a given string such as \"spam\", type \"modules spam\".\n",
      "\n"
     ]
    }
   ],
   "source": [
    "help() # vrlo korisna funkcija za pomoć oko određenih funkcija ili samih modula"
   ]
  },
  {
   "cell_type": "code",
   "execution_count": null,
   "metadata": {},
   "outputs": [],
   "source": [
    "blists = [\n",
    "    ['Tomica', 54],\n",
    "    ['Marica', 78]\n",
    "]  # liste unutar liste, 2D liste - uparene varijable u redovima"
   ]
  },
  {
   "cell_type": "code",
   "execution_count": null,
   "metadata": {},
   "outputs": [],
   "source": [
    "blists"
   ]
  },
  {
   "cell_type": "code",
   "execution_count": null,
   "metadata": {},
   "outputs": [],
   "source": [
    "blists[-1] # pristup listi unutar liste odostraga"
   ]
  },
  {
   "cell_type": "code",
   "execution_count": null,
   "metadata": {},
   "outputs": [],
   "source": [
    "blists[-2][0] # pristup listi unutar liste odostraga i to informaciji na poziciji 0"
   ]
  },
  {
   "cell_type": "code",
   "execution_count": null,
   "metadata": {},
   "outputs": [],
   "source": [
    "blists.append(['Prijo', 22]) # dodavanje liste uparenog para postojećoj listi\n",
    "blists"
   ]
  },
  {
   "cell_type": "code",
   "execution_count": null,
   "metadata": {},
   "outputs": [],
   "source": [
    "a = [0]*5 # lista nula umnožena pet puta\n",
    "a"
   ]
  },
  {
   "cell_type": "code",
   "execution_count": null,
   "metadata": {},
   "outputs": [],
   "source": [
    "cols = 5\n",
    "rows = 4\n",
    "dlist = [[1]*cols]*rows # jedinice kao element u 5 stupaca u četiri reda"
   ]
  },
  {
   "cell_type": "code",
   "execution_count": null,
   "metadata": {},
   "outputs": [],
   "source": [
    "dlist"
   ]
  },
  {
   "cell_type": "code",
   "execution_count": null,
   "metadata": {},
   "outputs": [],
   "source": [
    "# tuples - nepromjenjive liste - pokušaj promjene baca pogrešku\n",
    "tup1 = ('Tomica', 78)\n",
    "tup1[1] = 90 "
   ]
  },
  {
   "cell_type": "code",
   "execution_count": null,
   "metadata": {},
   "outputs": [],
   "source": [
    "tup2 = ('Marica', 22) # udruživanje \n",
    "tup1 + tup2"
   ]
  },
  {
   "cell_type": "code",
   "execution_count": null,
   "metadata": {},
   "outputs": [],
   "source": [
    "tup1"
   ]
  },
  {
   "cell_type": "code",
   "execution_count": null,
   "metadata": {},
   "outputs": [],
   "source": [
    "tup3 = tup1 + tup2 # spremanje pod novom varijablom "
   ]
  },
  {
   "cell_type": "code",
   "execution_count": null,
   "metadata": {},
   "outputs": [],
   "source": [
    "tup3"
   ]
  },
  {
   "cell_type": "code",
   "execution_count": null,
   "metadata": {},
   "outputs": [],
   "source": [
    "len(tup3) # prikaz broja elemenata unutar tupl-a"
   ]
  },
  {
   "cell_type": "code",
   "execution_count": null,
   "metadata": {},
   "outputs": [],
   "source": [
    "# dictionary\n",
    "country_code = {'Hrvatska': 385, 'USA': 1, 'BiH': 387}\n",
    "print(country_code)"
   ]
  },
  {
   "cell_type": "code",
   "execution_count": null,
   "metadata": {},
   "outputs": [],
   "source": [
    "print(country_code['BiH']) # pristup dodijeljenoj vrijednosti određenm ključu - ključ ide u uglate zagrade"
   ]
  },
  {
   "cell_type": "code",
   "execution_count": null,
   "metadata": {},
   "outputs": [],
   "source": [
    "country_code['UAE'] = 4 # dodavanje novog para ključ/vrijednost\n",
    "print(country_code)"
   ]
  },
  {
   "cell_type": "code",
   "execution_count": null,
   "metadata": {},
   "outputs": [],
   "source": [
    "'BiH' in country_code # provjera određene vrijednosti unutar varijable - boolien (true or false)"
   ]
  },
  {
   "cell_type": "code",
   "execution_count": null,
   "metadata": {},
   "outputs": [],
   "source": [
    "x = True\n",
    "type(x)"
   ]
  },
  {
   "cell_type": "code",
   "execution_count": null,
   "metadata": {},
   "outputs": [],
   "source": [
    "1 == 2 # provjera vrijednosti - točno/netočno - boolien"
   ]
  },
  {
   "cell_type": "code",
   "execution_count": null,
   "metadata": {},
   "outputs": [],
   "source": [
    "1 != 2"
   ]
  },
  {
   "cell_type": "code",
   "execution_count": null,
   "metadata": {
    "scrolled": true
   },
   "outputs": [],
   "source": [
    "a = 1              # provjera vrijednosti - točno/netočno - boolien\n",
    "b = 2\n",
    "print(a == b)\n",
    "print(a > b)\n",
    "print(a < b)\n",
    "print(a != b)"
   ]
  },
  {
   "cell_type": "markdown",
   "metadata": {},
   "source": [
    "### Uvjetovane tvrdnje if; else; elif"
   ]
  },
  {
   "cell_type": "code",
   "execution_count": null,
   "metadata": {},
   "outputs": [],
   "source": [
    "color = 'crvena'\n",
    "if color == 'crvena':\n",
    "    print(\"Boja je crvena!\")\n",
    "    \n",
    "print(\"Zadatak boja riješen!!\")"
   ]
  },
  {
   "cell_type": "code",
   "execution_count": null,
   "metadata": {},
   "outputs": [],
   "source": [
    "color = 'zelena'\n",
    "if color == 'crvena':\n",
    "    print(\"Boja je crvena!\")\n",
    "    \n",
    "else:\n",
    "    print(\"Boja nije crvena!\")\n",
    "    \n",
    "print(\"Zadatak boja riješen!!\")"
   ]
  },
  {
   "cell_type": "code",
   "execution_count": null,
   "metadata": {},
   "outputs": [],
   "source": [
    "color = 'zelena'\n",
    "if color == 'crvena':\n",
    "    print(\"Boja je crvena!\")\n",
    "    \n",
    "elif color == 'zelena':\n",
    "    print(\"Boja je zelena!\")\n",
    "    \n",
    "else:\n",
    "    print(\"Boja nije crvena!\")\n",
    "    \n",
    "print(\"Zadatak boja riješen!\")"
   ]
  },
  {
   "cell_type": "code",
   "execution_count": null,
   "metadata": {},
   "outputs": [],
   "source": [
    "age = 15\n",
    "if age >= 18:\n",
    "    print(\"Punoljetan\")\n",
    "    \n",
    "else:\n",
    "    print(\"Maloljetnik\")"
   ]
  },
  {
   "cell_type": "markdown",
   "metadata": {},
   "source": [
    "### Logični operatori - OR AND and NOT"
   ]
  },
  {
   "cell_type": "code",
   "execution_count": null,
   "metadata": {},
   "outputs": [],
   "source": [
    "a = 0      # not - suprotno od tvrdnje da li jeste ili nije\n",
    "not(a)"
   ]
  },
  {
   "cell_type": "code",
   "execution_count": null,
   "metadata": {},
   "outputs": [],
   "source": [
    "a = 3\n",
    "not(a)"
   ]
  },
  {
   "cell_type": "code",
   "execution_count": null,
   "metadata": {},
   "outputs": [],
   "source": [
    "a = True\n",
    "not(a)"
   ]
  },
  {
   "cell_type": "code",
   "execution_count": null,
   "metadata": {},
   "outputs": [],
   "source": [
    "rezultat = 76\n",
    "postotak = 83\n",
    "\n",
    "if rezultat > 75 or postotak > 90:    # dvostruki uvjet - bilo koji ako je zadovoljen - uvjet je zadovoljen - izvršava se radnja\n",
    "    print(\"Uspješno ste primljeni!\")\n",
    "else:\n",
    "    print(\"Pokušajte ponovno idući put\")\n"
   ]
  },
  {
   "cell_type": "markdown",
   "metadata": {},
   "source": [
    "### LOOPS - PETLJE - ponavljajuća radnja dok je zadovoljen postavljeni uvjet"
   ]
  },
  {
   "cell_type": "code",
   "execution_count": null,
   "metadata": {},
   "outputs": [],
   "source": [
    "range(5)    # stvara uređeni niz - od 0 (uključena) do 5(nije uključen)"
   ]
  },
  {
   "cell_type": "code",
   "execution_count": null,
   "metadata": {},
   "outputs": [],
   "source": [
    "for i in range(5):    # određena je petlja i njen spektar\n",
    "    print(i)"
   ]
  },
  {
   "cell_type": "code",
   "execution_count": null,
   "metadata": {},
   "outputs": [],
   "source": [
    "for i in range(1, 10, 2):   # određena je petlja i njen spektar 1 do 10 sa korakom 2\n",
    "    product = 8 * i   # varijabla gdje 8 množimo sa i\n",
    "    print(product)"
   ]
  },
  {
   "cell_type": "code",
   "execution_count": null,
   "metadata": {},
   "outputs": [],
   "source": [
    "imena = ('zlajo', 'maja', 'marijan')   # kreiranje TUPLES-a liste\n",
    "for ime in imena:\n",
    "    print(ime.upper())    # ispis velikim slovima"
   ]
  },
  {
   "cell_type": "code",
   "execution_count": null,
   "metadata": {},
   "outputs": [],
   "source": [
    "age = [12,43,45,10]    # lista sa vrijednostima INT\n",
    "i = 0                  # inicijacija-početna vrijednost varijable-iterator 'i' je nula\n",
    "while i < len(age):    # postavljanje uvjeta vršenja radnje provjere liste 'age', dok je uvjet ispunjen petlja se ponavlja\n",
    "    if age[i] >= 18:   # uvjet ako je vrijednost sa liste 'age' veća ili jednaka 18 - true, ide se na ispis, ako je false-sljedeći uvjet\n",
    "        print(\"Punoljetnik\")\n",
    "    else:              # uvjet kad je prethodni netočno-false, onda ispis \n",
    "        print(\"Maloljetnik\")\n",
    "    i += 1             # povećanje iteratora 'i' za jedan (jedno misto) sve dok se ponavljanjem ne dođe do konačnog broja elemenata liste"
   ]
  },
  {
   "cell_type": "code",
   "execution_count": null,
   "metadata": {},
   "outputs": [],
   "source": [
    "# list comprehension\n",
    "\n",
    "cubes = [n** 3 for n in range(1,10)]  #potencija svakog broja od 1 do 10 \n",
    "print(cubes)"
   ]
  },
  {
   "cell_type": "code",
   "execution_count": null,
   "metadata": {},
   "outputs": [],
   "source": [
    "# Isto što i redak prije ali na drugačiji način\n",
    "\n",
    "cubes = []\n",
    "for i in range(1,10):\n",
    "    cubes.append(i ** 3)\n",
    "print(cubes)"
   ]
  },
  {
   "cell_type": "code",
   "execution_count": null,
   "metadata": {},
   "outputs": [],
   "source": [
    "Igraci_kriketa = ['Mate', 'Šime','Rozi','Bili','Crni','Kukavac','Bratek'] #Kreiram listu\n",
    "print('Orginal Lista:')  #Izmjena naziva liste u 'Orginal lista'  \n",
    "print(Igraci_kriketa)   #Ispis pod novim nazivom liste orginal stanja liste\n",
    "Igraci_kriketa.sort()   #Sortiranje liste abecednim redom \n",
    "print('Sortirana lista:')    #Minjanje naziva liste u 'Sortirana lista'\n",
    "print(Igraci_kriketa)       #Ispis pod novim nazivom liste abecednim redom"
   ]
  },
  {
   "cell_type": "code",
   "execution_count": null,
   "metadata": {},
   "outputs": [],
   "source": [
    "Studosi_igraci = ['Rajko','Vikco','Marko','Stipe','Marko','Rajko','Vihor'] #Kreiranje liste\n",
    "print('Orginal lista:')   #Izmjena naziva liste u 'Orginal lista' \n",
    "print(Studosi_igraci)    #Ispis pod novim nazivom liste orginal stanja liste\n",
    "unique_List=[]            #Kreiranje prazne liste\n",
    "for student in Studosi_igraci: \n",
    "    if student not in unique_List: \n",
    "        unique_List.append(student)   #Dodavanje studenta sa liste u praznu listu jedan po jedan   \n",
    "        print('Jedinstvena lista:')   #Izmjena naziva liste u 'Jedinstvena lista' \n",
    "        print(unique_List)            #Ispis liste pod novim nazivom popunjavane jedinstvenim imenom studenta"
   ]
  },
  {
   "cell_type": "code",
   "execution_count": null,
   "metadata": {
    "scrolled": true
   },
   "outputs": [],
   "source": [
    "help(abs)  # sa funkcijom pomoć(help), lako možemo saznati što radi određena naredba ili funkcija"
   ]
  },
  {
   "cell_type": "code",
   "execution_count": null,
   "metadata": {},
   "outputs": [],
   "source": [
    "abs(2-5)"
   ]
  },
  {
   "cell_type": "code",
   "execution_count": null,
   "metadata": {},
   "outputs": [],
   "source": [
    "def zbroj_dva_broja(a, b):   # određivanje-definiranje funkcije\n",
    "    sum = a + b              # varijabla sa dređenom radnjom - zbrajanje argumenata iz definicije\n",
    "    return sum               # zahtjev za odrađivanjem zadane radnje unutar varijable 'sum'"
   ]
  },
  {
   "cell_type": "code",
   "execution_count": null,
   "metadata": {},
   "outputs": [],
   "source": [
    "zbroj_dva_broja(22,11)       # poziv/aktivacija funkcije pod nazivom zbroj_dva_broja"
   ]
  },
  {
   "cell_type": "code",
   "execution_count": null,
   "metadata": {},
   "outputs": [],
   "source": [
    "def farenhajt_u_celzijus(temp):  # poželjno je unutar kreirane definicije napisati opis koji ista vrši\n",
    "    \"\"\"\n",
    "    Ova funkcija konvertira temperaturu \n",
    "    iz arenhajta u celzijus.\n",
    "      Argumenti:\n",
    "      -----\n",
    "        tempInFahr: temperatura u faranhajtima\n",
    "\n",
    "      Povrat:\n",
    "      --------\n",
    "        tempInCel: temperatura u celzijusima\n",
    "    \"\"\"\n",
    "    tempInCel = (temp - 32) * 5/9   # formula po kojoj konvertiramo F u C\n",
    "    return tempInCel\n",
    "\n",
    "    "
   ]
  },
  {
   "cell_type": "code",
   "execution_count": null,
   "metadata": {},
   "outputs": [],
   "source": [
    "farenhajt_u_celzijus(68)  # poziv/aktivacija funkcije pod nazivom farenhajt_u_celzijus"
   ]
  },
  {
   "cell_type": "code",
   "execution_count": null,
   "metadata": {},
   "outputs": [],
   "source": []
  }
 ],
 "metadata": {
  "kernelspec": {
   "display_name": "Python 3 (ipykernel)",
   "language": "python",
   "name": "python3"
  },
  "language_info": {
   "codemirror_mode": {
    "name": "ipython",
    "version": 3
   },
   "file_extension": ".py",
   "mimetype": "text/x-python",
   "name": "python",
   "nbconvert_exporter": "python",
   "pygments_lexer": "ipython3",
   "version": "3.9.15"
  }
 },
 "nbformat": 4,
 "nbformat_minor": 4
}
