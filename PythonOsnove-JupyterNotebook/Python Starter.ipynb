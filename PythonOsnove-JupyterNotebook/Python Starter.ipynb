{
 "cells": [
  {
   "cell_type": "markdown",
   "id": "f512fac6",
   "metadata": {},
   "source": [
    "<h1 style=\"font-size:3rem;color:orange;\">Jupyter Notebook Tutorial</h1 #oderđivanje tipa zaglavlja, veličine i boje slova"
   ]
  },
  {
   "cell_type": "markdown",
   "id": "4abdf477",
   "metadata": {},
   "source": [
    "# Python for Beginners\n"
   ]
  },
  {
   "cell_type": "markdown",
   "id": "b7321016",
   "metadata": {},
   "source": [
    "<img src=\"https://picsum.photos/id/0/400/400\"> #dohvat slike sa neta, specifične veličine"
   ]
  },
  {
   "cell_type": "markdown",
   "id": "da6d4189",
   "metadata": {},
   "source": [
    "## Basic Output"
   ]
  },
  {
   "cell_type": "code",
   "execution_count": 1,
   "id": "122d1b13",
   "metadata": {},
   "outputs": [
    {
     "name": "stdout",
     "output_type": "stream",
     "text": [
      "Hello World!\n"
     ]
    }
   ],
   "source": [
    "print(\"Hello World!\")"
   ]
  },
  {
   "cell_type": "markdown",
   "id": "459e3c6b",
   "metadata": {},
   "source": [
    "## Insert a variable into a string"
   ]
  },
  {
   "cell_type": "code",
   "execution_count": 2,
   "id": "9ee2aef6",
   "metadata": {},
   "outputs": [
    {
     "name": "stdout",
     "output_type": "stream",
     "text": [
      "Kako se zoveš? Mate\n",
      "Pozdrav, Mate!\n",
      "Kako si danas? Dobro\n",
      "Dobro, hvala Mate što si podijelio to sa mnom!\n"
     ]
    }
   ],
   "source": [
    "osoba = input(\"Kako se zoveš? \") #unos podataka\n",
    "poruka = \"Pozdrav, {}!\".format(osoba) #Sastavljam poruku sa unešenim podatkom\n",
    "print(poruka)\n",
    "pitanje = input(\"Kako si danas? \") #unos podatka, odgovora\n",
    "odgovor = \"Dobro, hvala {} što si podijelio to sa mnom!\".format(osoba) #Sastavljam odgovor i korisitm podatak iz prvog unosa\n",
    "print(odgovor)"
   ]
  },
  {
   "cell_type": "markdown",
   "id": "7d315e9e",
   "metadata": {},
   "source": [
    "## Multiline String and String Length"
   ]
  },
  {
   "cell_type": "code",
   "execution_count": 3,
   "id": "98a47570",
   "metadata": {},
   "outputs": [
    {
     "name": "stdout",
     "output_type": "stream",
     "text": [
      "Jednom davno\n",
      "živjela je obitelj medvjedića\n",
      "koja je jako voljela jesti pizzu\n",
      "75\n"
     ]
    }
   ],
   "source": [
    "priča = \"\"\"Jednom davno\n",
    "živjela je obitelj medvjedića\n",
    "koja je jako voljela jesti pizzu\"\"\" #Tekst u više redaka, i izračun upotrebljenih znakova\n",
    "print(priča)\n",
    "print(len(priča))"
   ]
  },
  {
   "cell_type": "markdown",
   "id": "6379564d",
   "metadata": {},
   "source": [
    "## Matematičke Operacije"
   ]
  },
  {
   "cell_type": "code",
   "execution_count": 4,
   "id": "b310ca54",
   "metadata": {},
   "outputs": [
    {
     "name": "stdout",
     "output_type": "stream",
     "text": [
      "4.8\n",
      "4\n"
     ]
    }
   ],
   "source": [
    "x = 8\n",
    "y = 5\n",
    "z = (x * 3) / y\n",
    "m = (x * 3) % y #modulo(postotak) prikazuje ostatak u izračunu\n",
    "print(z)\n",
    "print(m)"
   ]
  },
  {
   "cell_type": "markdown",
   "id": "1be22fa5",
   "metadata": {},
   "source": [
    "## Lists (Arrays) Liste ili nizovi"
   ]
  },
  {
   "cell_type": "code",
   "execution_count": 5,
   "id": "8ae96b3f",
   "metadata": {},
   "outputs": [
    {
     "name": "stdout",
     "output_type": "stream",
     "text": [
      "Roko\n"
     ]
    }
   ],
   "source": [
    "prijatelji = ['Marko', 'Mirko', 'Roko', 'Tonka', 'Mare', 'Luce'] #lista varijable prijatelji, ispis vrijednosti pod br.2\n",
    "print(prijatelji[2])"
   ]
  }
 ],
 "metadata": {
  "kernelspec": {
   "display_name": "Python 3 (ipykernel)",
   "language": "python",
   "name": "python3"
  },
  "language_info": {
   "codemirror_mode": {
    "name": "ipython",
    "version": 3
   },
   "file_extension": ".py",
   "mimetype": "text/x-python",
   "name": "python",
   "nbconvert_exporter": "python",
   "pygments_lexer": "ipython3",
   "version": "3.9.13"
  }
 },
 "nbformat": 4,
 "nbformat_minor": 5
}
