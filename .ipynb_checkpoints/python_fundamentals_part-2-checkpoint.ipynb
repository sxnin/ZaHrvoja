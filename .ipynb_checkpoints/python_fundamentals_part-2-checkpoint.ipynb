{
 "cells": [
  {
   "cell_type": "markdown",
   "metadata": {},
   "source": [
    "# Python Osnove - drugi dio\n",
    "\n",
    "U ovoj bilješci/notebooku obradit ćemo sljedeće:\n",
    "\n",
    "1. 2D Lists - 2D liste - imaju svoje redove i stupce\n",
    "2. Tuples - nepromjenjive liste\n",
    "3. Dictionaries - upareni parovi - ključ sa vrijednosti\n",
    "4. Conditional statemenets - uvjetovane radnje-naredbe-izjave\n",
    "5. Functions in Python - Funkcije u Pythonu\n",
    "6. Loops - petlje"
   ]
  },
  {
   "cell_type": "code",
   "execution_count": 1,
   "metadata": {},
   "outputs": [],
   "source": [
    "alist = ['Tomica', 54, 'Marica', 78]"
   ]
  },
  {
   "cell_type": "code",
   "execution_count": 2,
   "metadata": {},
   "outputs": [
    {
     "data": {
      "text/plain": [
       "['Tomica', 54, 'Marica', 78]"
      ]
     },
     "execution_count": 2,
     "metadata": {},
     "output_type": "execute_result"
    }
   ],
   "source": [
    "alist"
   ]
  },
  {
   "cell_type": "code",
   "execution_count": 3,
   "metadata": {},
   "outputs": [],
   "source": [
    "alist.append(help) # dodajemo listi u slučaju ovom funkciju pomoć (help)"
   ]
  },
  {
   "cell_type": "code",
   "execution_count": 4,
   "metadata": {},
   "outputs": [
    {
     "data": {
      "text/plain": [
       "['Tomica',\n",
       " 54,\n",
       " 'Marica',\n",
       " 78,\n",
       " Type help() for interactive help, or help(object) for help about object.]"
      ]
     },
     "execution_count": 4,
     "metadata": {},
     "output_type": "execute_result"
    }
   ],
   "source": [
    "alist"
   ]
  },
  {
   "cell_type": "code",
   "execution_count": 5,
   "metadata": {},
   "outputs": [
    {
     "name": "stdout",
     "output_type": "stream",
     "text": [
      "\n",
      "Welcome to Python 3.9's help utility!\n",
      "\n",
      "If this is your first time using Python, you should definitely check out\n",
      "the tutorial on the Internet at https://docs.python.org/3.9/tutorial/.\n",
      "\n",
      "Enter the name of any module, keyword, or topic to get help on writing\n",
      "Python programs and using Python modules.  To quit this help utility and\n",
      "return to the interpreter, just type \"quit\".\n",
      "\n",
      "To get a list of available modules, keywords, symbols, or topics, type\n",
      "\"modules\", \"keywords\", \"symbols\", or \"topics\".  Each module also comes\n",
      "with a one-line summary of what it does; to list the modules whose name\n",
      "or summary contain a given string such as \"spam\", type \"modules spam\".\n",
      "\n",
      "help> sum\n",
      "Help on built-in function sum in module builtins:\n",
      "\n",
      "sum(iterable, /, start=0)\n",
      "    Return the sum of a 'start' value (default: 0) plus an iterable of numbers\n",
      "    \n",
      "    When the iterable is empty, return the start value.\n",
      "    This function is intended specifically for use with numeric values and may\n",
      "    reject non-numeric types.\n",
      "\n",
      "help> quit\n",
      "\n",
      "You are now leaving help and returning to the Python interpreter.\n",
      "If you want to ask for help on a particular object directly from the\n",
      "interpreter, you can type \"help(object)\".  Executing \"help('string')\"\n",
      "has the same effect as typing a particular string at the help> prompt.\n"
     ]
    }
   ],
   "source": [
    "help() # vrlo korisna funkcija za pomoć oko određenih funkcija ili samih modula"
   ]
  },
  {
   "cell_type": "code",
   "execution_count": 6,
   "metadata": {},
   "outputs": [],
   "source": [
    "blists = [\n",
    "    ['Tomica', 54],\n",
    "    ['Marica', 78]\n",
    "]  # liste unutar liste, 2D liste - uparene varijable u redovima"
   ]
  },
  {
   "cell_type": "code",
   "execution_count": 7,
   "metadata": {},
   "outputs": [
    {
     "data": {
      "text/plain": [
       "[['Tomica', 54], ['Marica', 78]]"
      ]
     },
     "execution_count": 7,
     "metadata": {},
     "output_type": "execute_result"
    }
   ],
   "source": [
    "blists"
   ]
  },
  {
   "cell_type": "code",
   "execution_count": 8,
   "metadata": {},
   "outputs": [
    {
     "data": {
      "text/plain": [
       "['Marica', 78]"
      ]
     },
     "execution_count": 8,
     "metadata": {},
     "output_type": "execute_result"
    }
   ],
   "source": [
    "blists[-1] # pristup listi unutar liste odostraga"
   ]
  },
  {
   "cell_type": "code",
   "execution_count": 9,
   "metadata": {},
   "outputs": [
    {
     "data": {
      "text/plain": [
       "'Tomica'"
      ]
     },
     "execution_count": 9,
     "metadata": {},
     "output_type": "execute_result"
    }
   ],
   "source": [
    "blists[-2][0] # pristup listi unutar liste odostraga i to informaciji na poziciji 0"
   ]
  },
  {
   "cell_type": "code",
   "execution_count": 10,
   "metadata": {},
   "outputs": [
    {
     "data": {
      "text/plain": [
       "[['Tomica', 54], ['Marica', 78], ['Prijo', 22]]"
      ]
     },
     "execution_count": 10,
     "metadata": {},
     "output_type": "execute_result"
    }
   ],
   "source": [
    "blists.append(['Prijo', 22]) # dodavanje liste uparenog para postojećoj listi\n",
    "blists"
   ]
  },
  {
   "cell_type": "code",
   "execution_count": 11,
   "metadata": {},
   "outputs": [
    {
     "data": {
      "text/plain": [
       "[0, 0, 0, 0, 0]"
      ]
     },
     "execution_count": 11,
     "metadata": {},
     "output_type": "execute_result"
    }
   ],
   "source": [
    "a = [0]*5 # lista nula umnožena pet puta\n",
    "a"
   ]
  },
  {
   "cell_type": "code",
   "execution_count": 12,
   "metadata": {},
   "outputs": [],
   "source": [
    "cols = 5\n",
    "rows = 4\n",
    "dlist = [[1]*cols]*rows # jedinice kao element u 5 stupaca u četiri reda"
   ]
  },
  {
   "cell_type": "code",
   "execution_count": 13,
   "metadata": {},
   "outputs": [
    {
     "data": {
      "text/plain": [
       "[[1, 1, 1, 1, 1], [1, 1, 1, 1, 1], [1, 1, 1, 1, 1], [1, 1, 1, 1, 1]]"
      ]
     },
     "execution_count": 13,
     "metadata": {},
     "output_type": "execute_result"
    }
   ],
   "source": [
    "dlist"
   ]
  },
  {
   "cell_type": "code",
   "execution_count": 14,
   "metadata": {},
   "outputs": [
    {
     "ename": "TypeError",
     "evalue": "'tuple' object does not support item assignment",
     "output_type": "error",
     "traceback": [
      "\u001b[1;31m---------------------------------------------------------------------------\u001b[0m",
      "\u001b[1;31mTypeError\u001b[0m                                 Traceback (most recent call last)",
      "Cell \u001b[1;32mIn [14], line 3\u001b[0m\n\u001b[0;32m      1\u001b[0m \u001b[38;5;66;03m# tuples - nepromjenjive liste - pokušaj promjene baca pogrešku\u001b[39;00m\n\u001b[0;32m      2\u001b[0m tup1 \u001b[38;5;241m=\u001b[39m (\u001b[38;5;124m'\u001b[39m\u001b[38;5;124mTomica\u001b[39m\u001b[38;5;124m'\u001b[39m, \u001b[38;5;241m78\u001b[39m)\n\u001b[1;32m----> 3\u001b[0m tup1[\u001b[38;5;241m1\u001b[39m] \u001b[38;5;241m=\u001b[39m \u001b[38;5;241m90\u001b[39m\n",
      "\u001b[1;31mTypeError\u001b[0m: 'tuple' object does not support item assignment"
     ]
    }
   ],
   "source": [
    "# tuples - nepromjenjive liste - pokušaj promjene baca pogrešku\n",
    "tup1 = ('Tomica', 78)\n",
    "tup1[1] = 90 "
   ]
  },
  {
   "cell_type": "code",
   "execution_count": 15,
   "metadata": {},
   "outputs": [
    {
     "data": {
      "text/plain": [
       "('Tomica', 78, 'Marica', 22)"
      ]
     },
     "execution_count": 15,
     "metadata": {},
     "output_type": "execute_result"
    }
   ],
   "source": [
    "tup2 = ('Marica', 22) # udruživanje \n",
    "tup1 + tup2"
   ]
  },
  {
   "cell_type": "code",
   "execution_count": 16,
   "metadata": {},
   "outputs": [
    {
     "data": {
      "text/plain": [
       "('Tomica', 78)"
      ]
     },
     "execution_count": 16,
     "metadata": {},
     "output_type": "execute_result"
    }
   ],
   "source": [
    "tup1"
   ]
  },
  {
   "cell_type": "code",
   "execution_count": 17,
   "metadata": {},
   "outputs": [],
   "source": [
    "tup3 = tup1 + tup2 # spremanje pod novom varijablom "
   ]
  },
  {
   "cell_type": "code",
   "execution_count": 18,
   "metadata": {},
   "outputs": [
    {
     "data": {
      "text/plain": [
       "('Tomica', 78, 'Marica', 22)"
      ]
     },
     "execution_count": 18,
     "metadata": {},
     "output_type": "execute_result"
    }
   ],
   "source": [
    "tup3"
   ]
  },
  {
   "cell_type": "code",
   "execution_count": 19,
   "metadata": {},
   "outputs": [
    {
     "data": {
      "text/plain": [
       "4"
      ]
     },
     "execution_count": 19,
     "metadata": {},
     "output_type": "execute_result"
    }
   ],
   "source": [
    "len(tup3) # prikaz broja elemenata unutar tupl-a"
   ]
  },
  {
   "cell_type": "code",
   "execution_count": 20,
   "metadata": {},
   "outputs": [
    {
     "name": "stdout",
     "output_type": "stream",
     "text": [
      "{'Hrvatska': 385, 'USA': 1, 'BiH': 387}\n"
     ]
    }
   ],
   "source": [
    "# dictionary\n",
    "country_code = {'Hrvatska': 385, 'USA': 1, 'BiH': 387}\n",
    "print(country_code)"
   ]
  },
  {
   "cell_type": "code",
   "execution_count": 21,
   "metadata": {},
   "outputs": [
    {
     "name": "stdout",
     "output_type": "stream",
     "text": [
      "387\n"
     ]
    }
   ],
   "source": [
    "print(country_code['BiH']) # pristup dodijeljenoj vrijednosti određenm ključu - ključ ide u uglate zagrade"
   ]
  },
  {
   "cell_type": "code",
   "execution_count": 22,
   "metadata": {},
   "outputs": [
    {
     "name": "stdout",
     "output_type": "stream",
     "text": [
      "{'Hrvatska': 385, 'USA': 1, 'BiH': 387, 'UAE': 4}\n"
     ]
    }
   ],
   "source": [
    "country_code['UAE'] = 4 # dodavanje novog para ključ/vrijednost\n",
    "print(country_code)"
   ]
  },
  {
   "cell_type": "code",
   "execution_count": 23,
   "metadata": {},
   "outputs": [
    {
     "data": {
      "text/plain": [
       "True"
      ]
     },
     "execution_count": 23,
     "metadata": {},
     "output_type": "execute_result"
    }
   ],
   "source": [
    "'BiH' in country_code # provjera određene vrijednosti unutar varijable - boolien (true or false)"
   ]
  },
  {
   "cell_type": "code",
   "execution_count": 24,
   "metadata": {},
   "outputs": [
    {
     "data": {
      "text/plain": [
       "bool"
      ]
     },
     "execution_count": 24,
     "metadata": {},
     "output_type": "execute_result"
    }
   ],
   "source": [
    "x = True\n",
    "type(x)"
   ]
  },
  {
   "cell_type": "code",
   "execution_count": 25,
   "metadata": {},
   "outputs": [
    {
     "data": {
      "text/plain": [
       "False"
      ]
     },
     "execution_count": 25,
     "metadata": {},
     "output_type": "execute_result"
    }
   ],
   "source": [
    "1 == 2 # provjera vrijednosti - točno/netočno - boolien"
   ]
  },
  {
   "cell_type": "code",
   "execution_count": 26,
   "metadata": {},
   "outputs": [
    {
     "data": {
      "text/plain": [
       "True"
      ]
     },
     "execution_count": 26,
     "metadata": {},
     "output_type": "execute_result"
    }
   ],
   "source": [
    "1 != 2"
   ]
  },
  {
   "cell_type": "code",
   "execution_count": 27,
   "metadata": {
    "scrolled": true
   },
   "outputs": [
    {
     "name": "stdout",
     "output_type": "stream",
     "text": [
      "False\n",
      "False\n",
      "True\n",
      "True\n"
     ]
    }
   ],
   "source": [
    "a = 1              # provjera vrijednosti - točno/netočno - boolien\n",
    "b = 2\n",
    "print(a == b)\n",
    "print(a > b)\n",
    "print(a < b)\n",
    "print(a != b)"
   ]
  },
  {
   "cell_type": "markdown",
   "metadata": {},
   "source": [
    "### Uvjetovane tvrdnje if; else; elif"
   ]
  },
  {
   "cell_type": "code",
   "execution_count": 28,
   "metadata": {},
   "outputs": [
    {
     "name": "stdout",
     "output_type": "stream",
     "text": [
      "Boja je crvena!\n",
      "Zadatak boja riješen!!\n"
     ]
    }
   ],
   "source": [
    "color = 'crvena'\n",
    "if color == 'crvena':\n",
    "    print(\"Boja je crvena!\")\n",
    "    \n",
    "print(\"Zadatak boja riješen!!\")"
   ]
  },
  {
   "cell_type": "code",
   "execution_count": 29,
   "metadata": {},
   "outputs": [
    {
     "name": "stdout",
     "output_type": "stream",
     "text": [
      "Boja nije crvena!\n",
      "Zadatak boja riješen!!\n"
     ]
    }
   ],
   "source": [
    "color = 'zelena'\n",
    "if color == 'crvena':\n",
    "    print(\"Boja je crvena!\")\n",
    "    \n",
    "else:\n",
    "    print(\"Boja nije crvena!\")\n",
    "    \n",
    "print(\"Zadatak boja riješen!!\")"
   ]
  },
  {
   "cell_type": "code",
   "execution_count": 30,
   "metadata": {},
   "outputs": [
    {
     "name": "stdout",
     "output_type": "stream",
     "text": [
      "Boja je zelena!\n",
      "Zadatak boja riješen!\n"
     ]
    }
   ],
   "source": [
    "color = 'zelena'\n",
    "if color == 'crvena':\n",
    "    print(\"Boja je crvena!\")\n",
    "    \n",
    "elif color == 'zelena':\n",
    "    print(\"Boja je zelena!\")\n",
    "    \n",
    "else:\n",
    "    print(\"Boja nije crvena!\")\n",
    "    \n",
    "print(\"Zadatak boja riješen!\")"
   ]
  },
  {
   "cell_type": "code",
   "execution_count": 31,
   "metadata": {},
   "outputs": [
    {
     "name": "stdout",
     "output_type": "stream",
     "text": [
      "Maloljetnik\n"
     ]
    }
   ],
   "source": [
    "age = 15\n",
    "if age >= 18:\n",
    "    print(\"Punoljetan\")\n",
    "    \n",
    "else:\n",
    "    print(\"Maloljetnik\")"
   ]
  },
  {
   "cell_type": "markdown",
   "metadata": {},
   "source": [
    "### Logični operatori - OR AND and NOT"
   ]
  },
  {
   "cell_type": "code",
   "execution_count": 32,
   "metadata": {},
   "outputs": [
    {
     "data": {
      "text/plain": [
       "True"
      ]
     },
     "execution_count": 32,
     "metadata": {},
     "output_type": "execute_result"
    }
   ],
   "source": [
    "a = 0      # not - suprotno od tvrdnje da li jeste ili nije\n",
    "not(a)"
   ]
  },
  {
   "cell_type": "code",
   "execution_count": 33,
   "metadata": {},
   "outputs": [
    {
     "data": {
      "text/plain": [
       "False"
      ]
     },
     "execution_count": 33,
     "metadata": {},
     "output_type": "execute_result"
    }
   ],
   "source": [
    "a = 3\n",
    "not(a)"
   ]
  },
  {
   "cell_type": "code",
   "execution_count": 34,
   "metadata": {},
   "outputs": [
    {
     "data": {
      "text/plain": [
       "False"
      ]
     },
     "execution_count": 34,
     "metadata": {},
     "output_type": "execute_result"
    }
   ],
   "source": [
    "a = True\n",
    "not(a)"
   ]
  },
  {
   "cell_type": "code",
   "execution_count": 35,
   "metadata": {},
   "outputs": [
    {
     "name": "stdout",
     "output_type": "stream",
     "text": [
      "Uspješno ste primljeni!\n"
     ]
    }
   ],
   "source": [
    "rezultat = 76\n",
    "postotak = 83\n",
    "\n",
    "if rezultat > 75 or postotak > 90:    # dvostruki uvjet - bilo koji ako je zadovoljen - uvjet je zadovoljen - izvršava se radnja\n",
    "    print(\"Uspješno ste primljeni!\")\n",
    "else:\n",
    "    print(\"Pokušajte ponovno idući put\")\n"
   ]
  },
  {
   "cell_type": "markdown",
   "metadata": {},
   "source": [
    "### LOOPS - PETLJE - ponavljajuća radnja dok je zadovoljen postavljeni uvjet"
   ]
  },
  {
   "cell_type": "code",
   "execution_count": 36,
   "metadata": {},
   "outputs": [
    {
     "data": {
      "text/plain": [
       "range(0, 5)"
      ]
     },
     "execution_count": 36,
     "metadata": {},
     "output_type": "execute_result"
    }
   ],
   "source": [
    "range(5)    # stvara uređeni niz - od 0 (uključena) do 5(nije uključen)"
   ]
  },
  {
   "cell_type": "code",
   "execution_count": 37,
   "metadata": {},
   "outputs": [
    {
     "name": "stdout",
     "output_type": "stream",
     "text": [
      "0\n",
      "1\n",
      "2\n",
      "3\n",
      "4\n"
     ]
    }
   ],
   "source": [
    "for i in range(5):    # određena je petlja i njen spektar\n",
    "    print(i)"
   ]
  },
  {
   "cell_type": "code",
   "execution_count": 38,
   "metadata": {},
   "outputs": [
    {
     "name": "stdout",
     "output_type": "stream",
     "text": [
      "8\n",
      "24\n",
      "40\n",
      "56\n",
      "72\n"
     ]
    }
   ],
   "source": [
    "for i in range(1, 10, 2):   # određena je petlja i njen spektar 1 do 10 sa korakom 2\n",
    "    product = 8 * i   # varijabla gdje 8 množimo sa i\n",
    "    print(product)"
   ]
  },
  {
   "cell_type": "code",
   "execution_count": 39,
   "metadata": {},
   "outputs": [
    {
     "name": "stdout",
     "output_type": "stream",
     "text": [
      "ZLAJO\n",
      "MAJA\n",
      "MARIJAN\n"
     ]
    }
   ],
   "source": [
    "imena = ('zlajo', 'maja', 'marijan')   # kreiranje TUPLES-a liste\n",
    "for ime in imena:\n",
    "    print(ime.upper())    # ispis velikim slovima"
   ]
  },
  {
   "cell_type": "code",
   "execution_count": 40,
   "metadata": {},
   "outputs": [
    {
     "name": "stdout",
     "output_type": "stream",
     "text": [
      "Maloljetnik\n",
      "Punoljetnik\n",
      "Punoljetnik\n",
      "Maloljetnik\n"
     ]
    }
   ],
   "source": [
    "age = [12,43,45,10]    # lista sa vrijednostima INT\n",
    "i = 0                  # inicijacija-početna vrijednost varijable-iterator 'i' je nula\n",
    "while i < len(age):    # postavljanje uvjeta vršenja radnje provjere liste 'age', dok je uvjet ispunjen petlja se ponavlja\n",
    "    if age[i] >= 18:   # uvjet ako je vrijednost sa liste 'age' veća ili jednaka 18 - true, ide se na ispis, ako je false-sljedeći uvjet\n",
    "        print(\"Punoljetnik\")\n",
    "    else:              # uvjet kad je prethodni netočno-false, onda ispis \n",
    "        print(\"Maloljetnik\")\n",
    "    i += 1             # povećanje iteratora 'i' za jedan (jedno misto) sve dok se ponavljanjem ne dođe do konačnog broja elemenata liste"
   ]
  },
  {
   "cell_type": "code",
   "execution_count": 41,
   "metadata": {},
   "outputs": [
    {
     "name": "stdout",
     "output_type": "stream",
     "text": [
      "[1, 8, 27, 64, 125, 216, 343, 512, 729]\n"
     ]
    }
   ],
   "source": [
    "# list comprehension\n",
    "\n",
    "cubes = [n** 3 for n in range(1,10)]  #potencija svakog broja od 1 do 10 \n",
    "print(cubes)"
   ]
  },
  {
   "cell_type": "code",
   "execution_count": 42,
   "metadata": {},
   "outputs": [
    {
     "name": "stdout",
     "output_type": "stream",
     "text": [
      "[1, 8, 27, 64, 125, 216, 343, 512, 729]\n"
     ]
    }
   ],
   "source": [
    "# Isto što i redak prije ali na drugačiji način\n",
    "\n",
    "cubes = []\n",
    "for i in range(1,10):\n",
    "    cubes.append(i ** 3)\n",
    "print(cubes)"
   ]
  },
  {
   "cell_type": "code",
   "execution_count": 43,
   "metadata": {},
   "outputs": [
    {
     "name": "stdout",
     "output_type": "stream",
     "text": [
      "Orginal Lista:\n",
      "['Mate', 'Šime', 'Rozi', 'Bili', 'Crni', 'Kukavac', 'Bratek']\n",
      "Sortirana lista:\n",
      "['Bili', 'Bratek', 'Crni', 'Kukavac', 'Mate', 'Rozi', 'Šime']\n"
     ]
    }
   ],
   "source": [
    "Igraci_kriketa = ['Mate', 'Šime','Rozi','Bili','Crni','Kukavac','Bratek'] #Kreiram listu\n",
    "print('Orginal Lista:')  #Izmjena naziva liste u 'Orginal lista'  \n",
    "print(Igraci_kriketa)   #Ispis pod novim nazivom liste orginal stanja liste\n",
    "Igraci_kriketa.sort()   #Sortiranje liste abecednim redom \n",
    "print('Sortirana lista:')    #Minjanje naziva liste u 'Sortirana lista'\n",
    "print(Igraci_kriketa)       #Ispis pod novim nazivom liste abecednim redom"
   ]
  },
  {
   "cell_type": "code",
   "execution_count": 44,
   "metadata": {},
   "outputs": [
    {
     "name": "stdout",
     "output_type": "stream",
     "text": [
      "Orginal lista:\n",
      "['Rajko', 'Vikco', 'Marko', 'Stipe', 'Marko', 'Rajko', 'Vihor']\n",
      "Jedinstvena lista:\n",
      "['Rajko']\n",
      "Jedinstvena lista:\n",
      "['Rajko', 'Vikco']\n",
      "Jedinstvena lista:\n",
      "['Rajko', 'Vikco', 'Marko']\n",
      "Jedinstvena lista:\n",
      "['Rajko', 'Vikco', 'Marko', 'Stipe']\n",
      "Jedinstvena lista:\n",
      "['Rajko', 'Vikco', 'Marko', 'Stipe', 'Vihor']\n"
     ]
    }
   ],
   "source": [
    "Studosi_igraci = ['Rajko','Vikco','Marko','Stipe','Marko','Rajko','Vihor'] #Kreiranje liste\n",
    "print('Orginal lista:')   #Izmjena naziva liste u 'Orginal lista' \n",
    "print(Studosi_igraci)    #Ispis pod novim nazivom liste orginal stanja liste\n",
    "unique_List=[]            #Kreiranje prazne liste\n",
    "for student in Studosi_igraci: \n",
    "    if student not in unique_List: \n",
    "        unique_List.append(student)   #Dodavanje studenta sa liste u praznu listu jedan po jedan   \n",
    "        print('Jedinstvena lista:')   #Izmjena naziva liste u 'Jedinstvena lista' \n",
    "        print(unique_List)            #Ispis liste pod novim nazivom popunjavane jedinstvenim imenom studenta"
   ]
  },
  {
   "cell_type": "code",
   "execution_count": 45,
   "metadata": {
    "scrolled": true
   },
   "outputs": [
    {
     "name": "stdout",
     "output_type": "stream",
     "text": [
      "Help on built-in function abs in module builtins:\n",
      "\n",
      "abs(x, /)\n",
      "    Return the absolute value of the argument.\n",
      "\n"
     ]
    }
   ],
   "source": [
    "help(abs)  # sa funkcijom pomoć(help), lako možemo saznati što radi određena naredba ili funkcija"
   ]
  },
  {
   "cell_type": "code",
   "execution_count": 46,
   "metadata": {},
   "outputs": [
    {
     "data": {
      "text/plain": [
       "3"
      ]
     },
     "execution_count": 46,
     "metadata": {},
     "output_type": "execute_result"
    }
   ],
   "source": [
    "abs(2-5)"
   ]
  },
  {
   "cell_type": "code",
   "execution_count": 47,
   "metadata": {},
   "outputs": [],
   "source": [
    "def zbroj_dva_broja(a, b):   # određivanje-definiranje funkcije\n",
    "    sum = a + b              # varijabla sa dređenom radnjom - zbrajanje argumenata iz definicije\n",
    "    return sum               # zahtjev za odrađivanjem zadane radnje unutar varijable 'sum'"
   ]
  },
  {
   "cell_type": "code",
   "execution_count": 48,
   "metadata": {},
   "outputs": [
    {
     "data": {
      "text/plain": [
       "33"
      ]
     },
     "execution_count": 48,
     "metadata": {},
     "output_type": "execute_result"
    }
   ],
   "source": [
    "zbroj_dva_broja(22,11)       # poziv/aktivacija funkcije pod nazivom zbroj_dva_broja"
   ]
  },
  {
   "cell_type": "code",
   "execution_count": 49,
   "metadata": {},
   "outputs": [],
   "source": [
    "def farenhajt_u_celzijus(temp):  # poželjno je unutar kreirane definicije napisati opis koji ista vrši\n",
    "    \"\"\"\n",
    "    Ova funkcija konvertira temperaturu \n",
    "    iz arenhajta u celzijus.\n",
    "      Argumenti:\n",
    "      -----\n",
    "        tempInFahr: temperatura u faranhajtima\n",
    "\n",
    "      Povrat:\n",
    "      --------\n",
    "        tempInCel: temperatura u celzijusima\n",
    "    \"\"\"\n",
    "    tempInCel = (temp - 32) * 5/9   # formula po kojoj konvertiramo F u C\n",
    "    return tempInCel\n",
    "\n",
    "    "
   ]
  },
  {
   "cell_type": "code",
   "execution_count": 50,
   "metadata": {},
   "outputs": [
    {
     "data": {
      "text/plain": [
       "20.0"
      ]
     },
     "execution_count": 50,
     "metadata": {},
     "output_type": "execute_result"
    }
   ],
   "source": [
    "farenhajt_u_celzijus(68)  # poziv/aktivacija funkcije pod nazivom farenhajt_u_celzijus"
   ]
  },
  {
   "cell_type": "code",
   "execution_count": null,
   "metadata": {},
   "outputs": [],
   "source": []
  }
 ],
 "metadata": {
  "kernelspec": {
   "display_name": "Python 3 (ipykernel)",
   "language": "python",
   "name": "python3"
  },
  "language_info": {
   "codemirror_mode": {
    "name": "ipython",
    "version": 3
   },
   "file_extension": ".py",
   "mimetype": "text/x-python",
   "name": "python",
   "nbconvert_exporter": "python",
   "pygments_lexer": "ipython3",
   "version": "3.9.15"
  }
 },
 "nbformat": 4,
 "nbformat_minor": 4
}
